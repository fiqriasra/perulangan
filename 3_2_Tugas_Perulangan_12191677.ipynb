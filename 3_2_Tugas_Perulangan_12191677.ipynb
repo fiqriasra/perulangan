{
 "cells": [
  {
   "cell_type": "code",
   "execution_count": null,
   "metadata": {
    "id": "fkV8YRAQlm-C"
   },
   "outputs": [],
   "source": []
  },
  {
   "cell_type": "markdown",
   "metadata": {
    "id": "lnkJ-zBHl3jp"
   },
   "source": [
    "## Access Element\n",
    "Keunikan lain dari looping dengan python adalah selain bahasa yang mudah dimengerti dalam looping, kita juga bisa mengakses elemen yang terdapat pada sebuah list. Berikut ini contohnya :\n",
    "``` javascript\n",
    "#Tugas 3.2.1\n",
    "count=[1,2,3,4,5] #elemen list\n",
    "\n",
    "for number in count: #looping untuk menampilkan semua elemen pada count\n",
    "    print(\"Ini adalah element count : \", number) #menampilkan elemen list pada count\n",
    "```\n",
    "Implekementasikan kode diatas, ketikan pada code cell di bawah ini, berikan penjelasan terkait kode diatas"
   ]
  },
  {
   "cell_type": "code",
   "execution_count": 2,
   "metadata": {
    "id": "xYjQqqNLm-dB"
   },
   "outputs": [
    {
     "name": "stdout",
     "output_type": "stream",
     "text": [
      "ini adalah element count :  1 2 3 4 5\n"
     ]
    }
   ],
   "source": [
    "# Jawaban Tugas 3.2.1\n",
    "count=[1,2,3,4,5]#element list\n",
    "print(\"ini adalah element count : \",1,2,3,4,5)#menampilkan element list pada count"
   ]
  },
  {
   "cell_type": "markdown",
   "metadata": {
    "id": "figDWKAcnZRA"
   },
   "source": [
    "## Tugas Praktek 3.2.2\n",
    "1. Buatlah sebuah program yang bisa mengeluarkan angka 1 sampai 10.\n",
    "1. Buatlah sebuah program yang bisa mengeluarkan angka -20 sampai -50.\n",
    "3. Tampilan akan menunjukan \"Angka ganjil 1\" untuk angka ganjil dan \"Angka genap 2\" untuk angka genap. (Menggunakan looping for)\n",
    "\n",
    "**Note:** Kode dasar sudah disertakan, Anda cukup mengganti tanda # dengan nilai-nilai yang sesuai."
   ]
  },
  {
   "cell_type": "code",
   "execution_count": 5,
   "metadata": {
    "id": "MElhruOTntzZ"
   },
   "outputs": [
    {
     "name": "stdout",
     "output_type": "stream",
     "text": [
      "angka =  1\n",
      "angka =  2\n",
      "angka =  3\n",
      "angka =  4\n",
      "angka =  5\n",
      "angka =  6\n",
      "angka =  7\n",
      "angka =  8\n",
      "angka =  9\n",
      "angka =  10\n"
     ]
    }
   ],
   "source": [
    "#Jawaban Tugas 3.2.1.1\n",
    "for a in range(1, 11):\n",
    "    print(\"angka = \",a)"
   ]
  },
  {
   "cell_type": "code",
   "execution_count": 35,
   "metadata": {
    "id": "NFtMjrQznuF2"
   },
   "outputs": [
    {
     "name": "stdout",
     "output_type": "stream",
     "text": [
      "amgka =  0\n",
      "amgka =  1\n",
      "amgka =  2\n",
      "amgka =  3\n",
      "amgka =  4\n",
      "amgka =  5\n",
      "amgka =  6\n",
      "amgka =  7\n",
      "amgka =  8\n",
      "amgka =  9\n",
      "amgka =  10\n",
      "amgka =  11\n",
      "amgka =  12\n",
      "amgka =  13\n",
      "amgka =  14\n",
      "amgka =  15\n",
      "amgka =  16\n",
      "amgka =  17\n",
      "amgka =  18\n",
      "amgka =  19\n",
      "amgka =  20\n",
      "amgka =  21\n",
      "amgka =  22\n",
      "amgka =  23\n",
      "amgka =  24\n",
      "amgka =  25\n",
      "amgka =  26\n",
      "amgka =  27\n",
      "amgka =  28\n",
      "amgka =  29\n",
      "amgka =  30\n",
      "amgka =  31\n",
      "amgka =  32\n",
      "amgka =  33\n",
      "amgka =  34\n",
      "amgka =  35\n",
      "amgka =  36\n",
      "amgka =  37\n",
      "amgka =  38\n",
      "amgka =  39\n",
      "amgka =  40\n",
      "amgka =  41\n",
      "amgka =  42\n",
      "amgka =  43\n",
      "amgka =  44\n",
      "amgka =  45\n",
      "amgka =  46\n",
      "amgka =  47\n",
      "amgka =  48\n",
      "amgka =  49\n"
     ]
    }
   ],
   "source": [
    "#Jawaban Tugas 3.2.1.2\n",
    "for i in range( 50 ):\n",
    "    print(\"amgka = \", i)"
   ]
  },
  {
   "cell_type": "code",
   "execution_count": 49,
   "metadata": {
    "id": "xpGigMPBpBy7"
   },
   "outputs": [
    {
     "name": "stdout",
     "output_type": "stream",
     "text": [
      "angka ganjil  1\n",
      "angka genap  2\n"
     ]
    }
   ],
   "source": [
    "#Jawaban Tugas 3.2.1.3\n",
    "for a in range(1 , 2):\n",
    "    print(\"angka ganjil \",a)\n",
    "    print(\"angka genap \",2)"
   ]
  },
  {
   "cell_type": "code",
   "execution_count": null,
   "metadata": {},
   "outputs": [],
   "source": []
  },
  {
   "cell_type": "code",
   "execution_count": null,
   "metadata": {},
   "outputs": [],
   "source": []
  }
 ],
 "metadata": {
  "colab": {
   "collapsed_sections": [],
   "name": "3.2_Tugas_Perulangan.ipynb",
   "provenance": []
  },
  "kernelspec": {
   "display_name": "Python 3",
   "language": "python",
   "name": "python3"
  },
  "language_info": {
   "codemirror_mode": {
    "name": "ipython",
    "version": 3
   },
   "file_extension": ".py",
   "mimetype": "text/x-python",
   "name": "python",
   "nbconvert_exporter": "python",
   "pygments_lexer": "ipython3",
   "version": "3.8.3"
  }
 },
 "nbformat": 4,
 "nbformat_minor": 1
}
